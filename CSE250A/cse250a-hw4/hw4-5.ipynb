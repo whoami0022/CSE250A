{
 "cells": [
  {
   "cell_type": "code",
   "execution_count": 4,
   "metadata": {},
   "outputs": [
    {
     "name": "stdout",
     "output_type": "stream",
     "text": [
      "a1:0.95067336614\n",
      "a2:0.0156013307728\n",
      "a3:0.0318956851603\n",
      "===============================\n",
      "MSE: 13902.4010764\n",
      "MSE: 2985.09792411\n"
     ]
    }
   ],
   "source": [
    "import numpy as np\n",
    "\n",
    "f = open('cs250a-hw4/hw4_nasdaq00.txt','r')\n",
    "data = [float(line.strip('\\n')) for line in f.readlines()]\n",
    "\n",
    "X = []\n",
    "Y = []\n",
    "\n",
    "for t in range(3):\n",
    "    x = []\n",
    "    y = []\n",
    "    for j in range(len(data) - 3):\n",
    "        xtb = np.array([data[j + 2], data[j + 1], data[j]])\n",
    "        xta = data[j - t + 2]\n",
    "        yt = data[j + 3]\n",
    "        x.append(xtb * xta)\n",
    "        y.append(xta * yt)\n",
    "\n",
    "    X.append(np.sum(x, axis=0))\n",
    "    Y.append(sum(y))\n",
    "\n",
    "X = np.array(X)\n",
    "Y = np.array(Y)\n",
    "\n",
    "coefficients = np.linalg.solve(X, Y)\n",
    "for i, k in enumerate(coefficients):\n",
    "    print('a' + str(i + 1) + ':' + str(k))\n",
    "\n",
    "print('===============================')\n",
    "\n",
    "\n",
    "def compute_MSE(coefficients, year_file):\n",
    "    f = open(year_file, 'r')\n",
    "    data = [float(line.strip('\\n')) for line in f.readlines()]\n",
    "    pred = []\n",
    "    for i in range(3, len(data)):\n",
    "        wxt = data[i - 3:i][::-1] * coefficients\n",
    "        pred.append(np.sum(wxt))\n",
    "\n",
    "    MSE = np.mean(np.square(np.array(pred) - np.array(data[3:])))\n",
    "    print('MSE: ' + str(MSE))\n",
    "\n",
    "compute_MSE(coefficients, 'cs250a-hw4/hw4_nasdaq00.txt')\n",
    "compute_MSE(coefficients, 'cs250a-hw4/hw4_nasdaq01.txt')"
   ]
  },
  {
   "cell_type": "code",
   "execution_count": null,
   "metadata": {},
   "outputs": [],
   "source": [
    ""
   ]
  }
 ],
 "metadata": {
  "kernelspec": {
   "display_name": "Python 3",
   "language": "python",
   "name": "python3"
  },
  "language_info": {
   "codemirror_mode": {
    "name": "ipython",
    "version": 2.0
   },
   "file_extension": ".py",
   "mimetype": "text/x-python",
   "name": "python",
   "nbconvert_exporter": "python",
   "pygments_lexer": "ipython2",
   "version": "2.7.15"
  }
 },
 "nbformat": 4,
 "nbformat_minor": 0
}