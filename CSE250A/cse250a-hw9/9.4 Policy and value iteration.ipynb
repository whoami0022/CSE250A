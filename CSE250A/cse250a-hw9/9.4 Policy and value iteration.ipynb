{
 "cells": [
  {
   "cell_type": "code",
   "execution_count": 1,
   "metadata": {},
   "outputs": [],
   "source": [
    "import numpy as np"
   ]
  },
  {
   "cell_type": "code",
   "execution_count": 2,
   "metadata": {},
   "outputs": [],
   "source": [
    "def load_rewards(file_name):\n",
    "    f = open(file_name, 'r')\n",
    "    rewards = [int(line.strip('\\n')) for line in f.readlines()]\n",
    "    return rewards"
   ]
  },
  {
   "cell_type": "code",
   "execution_count": 3,
   "metadata": {},
   "outputs": [],
   "source": [
    "def load_matrix(file_name):\n",
    "    matrix = np.zeros((81, 81))\n",
    "    f = open(file_name, 'r')\n",
    "    for i in f.readlines():\n",
    "        i = i.split()\n",
    "        matrix[int(i[0]) - 1][int(i[1]) - 1] = float(i[2])\n",
    "    return matrix"
   ]
  },
  {
   "cell_type": "code",
   "execution_count": 4,
   "metadata": {},
   "outputs": [],
   "source": [
    "rewards = load_rewards('rewards.txt')\n",
    "rewards = np.matrix(rewards).reshape(81, 1)\n",
    "\n",
    "m1 = load_matrix('prob_a1.txt')\n",
    "m2 = load_matrix('prob_a2.txt')\n",
    "m3 = load_matrix('prob_a3.txt')\n",
    "m4 = load_matrix('prob_a4.txt')\n",
    "action_all = [m1, m2, m3, m4]"
   ]
  },
  {
   "cell_type": "code",
   "execution_count": 5,
   "metadata": {},
   "outputs": [],
   "source": [
    "N = len(m1[0])\n",
    "decay = 0.99"
   ]
  },
  {
   "cell_type": "code",
   "execution_count": 6,
   "metadata": {},
   "outputs": [],
   "source": [
    "def max_v_a(action, s, prev_v):\n",
    "    max_v = float('-inf')\n",
    "    max_a = -1\n",
    "    for i in range(4):\n",
    "        vp = 0\n",
    "        for k in range(N):\n",
    "            vp += action[i][s][k] * prev_v[k]\n",
    "        if vp > max_v:\n",
    "            max_v = vp\n",
    "            max_a = i\n",
    "    return max_v, max_a"
   ]
  },
  {
   "cell_type": "code",
   "execution_count": 7,
   "metadata": {},
   "outputs": [],
   "source": [
    "p = np.zeros(N)\n",
    "value = np.zeros(N)"
   ]
  },
  {
   "cell_type": "code",
   "execution_count": 8,
   "metadata": {},
   "outputs": [],
   "source": [
    "for _ in range(50):\n",
    "    pp = np.zeros((N, N))\n",
    "    for i in range(N):\n",
    "        a = p[i]\n",
    "        pp[i] = action_all[int(a)][i]\n",
    "\n",
    "    prev_v = np.matrix(np.identity(N) - decay * pp).getI() * rewards\n",
    "\n",
    "    for i in range(N):\n",
    "        max_v, max_a = max_v_a(action_all, i, prev_v)\n",
    "        value[i] = rewards[i][0] + decay * max_v\n",
    "        p[i] = max_a"
   ]
  },
  {
   "cell_type": "code",
   "execution_count": 10,
   "metadata": {},
   "outputs": [],
   "source": [
    "v1 = value.reshape(9,9).T"
   ]
  },
  {
   "cell_type": "code",
   "execution_count": 17,
   "metadata": {},
   "outputs": [],
   "source": [
    "for i in range(9):\n",
    "    for j in range(9):\n",
    "        v1[i][j] = round(v1[i][j])"
   ]
  },
  {
   "cell_type": "code",
   "execution_count": 18,
   "metadata": {},
   "outputs": [
    {
     "data": {
      "text/plain": [
       "array([[   0.,    0.,    0.,    0.,    0.,    0.,    0.,    0.,    0.],\n",
       "       [   0.,   66.,   67.,   78.,   80.,   72., -100.,    0.,  100.],\n",
       "       [   0.,   56., -100.,   70.,   81.,   83.,   85.,   97.,   99.],\n",
       "       [   0.,   55.,   50.,   60.,    0.,   81.,    0.,   97.,   99.],\n",
       "       [  54.,   54.,    0., -100., -100.,   62., -100.,   88.,  100.],\n",
       "       [   0.,   53.,   44.,   51.,   61.,   72.,   74.,   85.,   98.],\n",
       "       [   0.,   44., -100.,    0.,    0.,   70.,    0., -100.,   88.],\n",
       "       [   0.,   48.,   49.,   58.,   59.,   60., -100.,    0.,  100.],\n",
       "       [   0.,    0.,    0.,    0.,    0.,    0.,    0.,    0.,    0.]])"
      ]
     },
     "execution_count": 18,
     "metadata": {},
     "output_type": "execute_result"
    }
   ],
   "source": [
    "v1"
   ]
  },
  {
   "cell_type": "code",
   "execution_count": 19,
   "metadata": {},
   "outputs": [
    {
     "data": {
      "text/plain": [
       "array([[ 0.,  0.,  0.,  0.,  0.,  0.,  0.,  0.,  0.],\n",
       "       [ 0.,  2.,  2.,  2.,  3.,  3.,  0.,  0.,  0.],\n",
       "       [ 0.,  1.,  0.,  2.,  2.,  2.,  2.,  2.,  1.],\n",
       "       [ 0.,  1.,  2.,  1.,  0.,  1.,  0.,  2.,  3.],\n",
       "       [ 2.,  1.,  0.,  0.,  0.,  1.,  0.,  2.,  0.],\n",
       "       [ 0.,  1.,  0.,  2.,  2.,  2.,  2.,  2.,  1.],\n",
       "       [ 0.,  1.,  0.,  0.,  0.,  1.,  0.,  0.,  3.],\n",
       "       [ 0.,  2.,  2.,  2.,  2.,  1.,  0.,  0.,  0.],\n",
       "       [ 0.,  0.,  0.,  0.,  0.,  0.,  0.,  0.,  0.]])"
      ]
     },
     "execution_count": 19,
     "metadata": {},
     "output_type": "execute_result"
    }
   ],
   "source": [
    "p.reshape(9,9).T"
   ]
  },
  {
   "cell_type": "code",
   "execution_count": null,
   "metadata": {},
   "outputs": [],
   "source": []
  },
  {
   "cell_type": "code",
   "execution_count": 20,
   "metadata": {},
   "outputs": [],
   "source": [
    "p = np.zeros(N)\n",
    "value = np.zeros(N)"
   ]
  },
  {
   "cell_type": "code",
   "execution_count": 22,
   "metadata": {},
   "outputs": [],
   "source": [
    "for _ in range(50):\n",
    "    prev_v = value\n",
    "    for i in range(N):\n",
    "        max_v, max_a = max_v_a(action_all, i, prev_v)\n",
    "        value[i] = rewards[i][0] + decay * max_v\n",
    "        p[i] = max_a"
   ]
  },
  {
   "cell_type": "code",
   "execution_count": 23,
   "metadata": {},
   "outputs": [],
   "source": [
    "v2 = value.reshape(9,9).T"
   ]
  },
  {
   "cell_type": "code",
   "execution_count": 24,
   "metadata": {},
   "outputs": [],
   "source": [
    "for i in range(9):\n",
    "    for j in range(9):\n",
    "        v2[i][j] = round(v2[i][j])"
   ]
  },
  {
   "cell_type": "code",
   "execution_count": 25,
   "metadata": {},
   "outputs": [
    {
     "data": {
      "text/plain": [
       "array([[  0.,   0.,   0.,   0.,   0.,   0.,   0.,   0.,   0.],\n",
       "       [  0.,  22.,  23.,  27.,  28.,  26., -39.,   0.,  39.],\n",
       "       [  0.,  18., -39.,  25.,  30.,  31.,  32.,  37.,  39.],\n",
       "       [  0.,  18.,  17.,  21.,   0.,  30.,   0.,  37.,  38.],\n",
       "       [ 17.,  17.,   0., -39., -39.,  23., -39.,  34.,  39.],\n",
       "       [  0.,  17.,  14.,  18.,  22.,  27.,  28.,  33.,  38.],\n",
       "       [  0.,  14., -39.,   0.,   0.,  26.,   0., -39.,  34.],\n",
       "       [  0.,  16.,  17.,  21.,  21.,  22., -39.,   0.,  39.],\n",
       "       [  0.,   0.,   0.,   0.,   0.,   0.,   0.,   0.,   0.]])"
      ]
     },
     "execution_count": 25,
     "metadata": {},
     "output_type": "execute_result"
    }
   ],
   "source": [
    "v2"
   ]
  },
  {
   "cell_type": "code",
   "execution_count": 26,
   "metadata": {},
   "outputs": [
    {
     "data": {
      "text/plain": [
       "array([[ 0.,  0.,  0.,  0.,  0.,  0.,  0.,  0.,  0.],\n",
       "       [ 0.,  2.,  2.,  2.,  3.,  3.,  0.,  0.,  0.],\n",
       "       [ 0.,  1.,  0.,  2.,  2.,  2.,  2.,  2.,  1.],\n",
       "       [ 0.,  1.,  2.,  1.,  0.,  1.,  0.,  2.,  3.],\n",
       "       [ 2.,  1.,  0.,  0.,  0.,  1.,  0.,  2.,  0.],\n",
       "       [ 0.,  1.,  2.,  2.,  2.,  2.,  2.,  2.,  1.],\n",
       "       [ 0.,  1.,  0.,  0.,  0.,  1.,  0.,  0.,  3.],\n",
       "       [ 0.,  2.,  2.,  2.,  2.,  1.,  0.,  0.,  0.],\n",
       "       [ 0.,  0.,  0.,  0.,  0.,  0.,  0.,  0.,  0.]])"
      ]
     },
     "execution_count": 26,
     "metadata": {},
     "output_type": "execute_result"
    }
   ],
   "source": [
    "p.reshape(9,9).T"
   ]
  },
  {
   "cell_type": "code",
   "execution_count": null,
   "metadata": {},
   "outputs": [],
   "source": []
  }
 ],
 "metadata": {
  "kernelspec": {
   "display_name": "Python 3",
   "language": "python",
   "name": "python3"
  },
  "language_info": {
   "codemirror_mode": {
    "name": "ipython",
    "version": 2
   },
   "file_extension": ".py",
   "mimetype": "text/x-python",
   "name": "python",
   "nbconvert_exporter": "python",
   "pygments_lexer": "ipython2",
   "version": "2.7.15"
  }
 },
 "nbformat": 4,
 "nbformat_minor": 2
}
