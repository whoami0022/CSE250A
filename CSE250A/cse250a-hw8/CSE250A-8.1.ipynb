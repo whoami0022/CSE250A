{
 "cells": [
  {
   "cell_type": "markdown",
   "metadata": {},
   "source": [
    "## 8.1 EM algorithm for binary matrix completion"
   ]
  },
  {
   "cell_type": "markdown",
   "metadata": {},
   "source": [
    "### (a) Sanity check"
   ]
  },
  {
   "cell_type": "code",
   "execution_count": 34,
   "metadata": {},
   "outputs": [],
   "source": [
    "import math\n",
    "import numpy as np\n",
    "\n",
    "def read_file(filename):\n",
    "    f = open(filename, 'r')\n",
    "    data = []\n",
    "    for line in f.readlines():\n",
    "        line = line.strip('\\n').split()\n",
    "        if len(line) == 1:\n",
    "            data.append(line[0])\n",
    "        else:\n",
    "            data.append(line)\n",
    "\n",
    "    return data\n",
    "\n",
    "rating = read_file('hw8_ratings_fa18.txt')\n",
    "title = read_file('hw8_movieTitles_fa18.txt')\n",
    "pid = read_file('hw8_studentPIDs_fa18.txt')\n",
    "T = len(rating)"
   ]
  },
  {
   "cell_type": "code",
   "execution_count": 35,
   "metadata": {},
   "outputs": [
    {
     "name": "stdout",
     "output_type": "stream",
     "text": [
      "62\n"
     ]
    }
   ],
   "source": [
    "movie_popularity = {}\n",
    "for i in range(len(title)):\n",
    "    movie_popularity[title[i]] = 0\n",
    "    amount = 0\n",
    "    for t in range(T):\n",
    "        if rating[t][i] != '?':\n",
    "            amount += 1\n",
    "        if rating[t][i] == '1':\n",
    "            movie_popularity[title[i]] += 1\n",
    "    movie_popularity[title[i]] /= float(amount)\n",
    "\n",
    "movie_popularity = sorted(movie_popularity.items(), key=lambda item: item[1])\n",
    "print(len(movie_popularity))\n"
   ]
  },
  {
   "cell_type": "code",
   "execution_count": 36,
   "metadata": {},
   "outputs": [
    {
     "name": "stdout",
     "output_type": "stream",
     "text": [
      "('The_Last_Airbender', 0.3026315789473684)\n",
      "('Fifty_Shades_of_Grey', 0.3333333333333333)\n",
      "('I_Feel_Pretty', 0.36363636363636365)\n",
      "('Chappaquidick', 0.45454545454545453)\n",
      "('Man_of_Steel', 0.4892086330935252)\n",
      "('Prometheus', 0.51)\n",
      "('The_Shape_of_Water', 0.5111111111111111)\n",
      "('Phantom_Thread', 0.5454545454545454)\n",
      "('Magic_Mike', 0.5531914893617021)\n",
      "('World_War_Z', 0.5784313725490197)\n",
      "('Bridemaids', 0.6271186440677966)\n",
      "('American_Hustle', 0.6486486486486487)\n",
      "('Drive', 0.6666666666666666)\n",
      "('The_Hunger_Games', 0.6683168316831684)\n",
      "('Thor', 0.6934673366834171)\n",
      "('Pitch_Perfect', 0.6962025316455697)\n",
      "('Fast_Five', 0.704)\n",
      "('Avengers:_Age_of_Ultron', 0.7208121827411168)\n",
      "('Jurassic_World', 0.7216494845360825)\n",
      "('The_Hateful_Eight', 0.7288135593220338)\n",
      "('The_Revenant', 0.73)\n",
      "('Dunkirk', 0.732824427480916)\n",
      "('Star_Wars:_The_Force_Awakens', 0.7440476190476191)\n",
      "('Mad_Max:_Fury_Road', 0.7443609022556391)\n",
      "('Captain_America:_The_First_Avenger', 0.7524271844660194)\n",
      "('The_Perks_of_Being_a_Wallflower', 0.759493670886076)\n",
      "('Iron_Man_2', 0.7641509433962265)\n",
      "('La_La_Land', 0.7664670658682635)\n",
      "('Manchester_by_the_Sea', 0.7681159420289855)\n",
      "('The_Help', 0.775)\n",
      "('Midnight_in_Paris', 0.7837837837837838)\n",
      "('The_Girls_with_the_Dragon_Tattoo', 0.7887323943661971)\n",
      "('21_Jump_Street', 0.7894736842105263)\n",
      "('Frozen', 0.7916666666666666)\n",
      "('Now_You_See_Me', 0.7924528301886793)\n",
      "('X-Men:_First_Class', 0.8055555555555556)\n",
      "('Ex_Machina', 0.8068181818181818)\n",
      "('Harry_Potter_and_the_Deathly_Hallows:_Part_1', 0.8119266055045872)\n",
      "('Toy_Story_3', 0.8176795580110497)\n",
      "('Her', 0.826530612244898)\n",
      "('The_Great_Gatsby', 0.8313253012048193)\n",
      "('The_Avengers', 0.831858407079646)\n",
      "('The_Theory_of_Everything', 0.832)\n",
      "('Room', 0.8360655737704918)\n",
      "('Gone_Girl', 0.8363636363636363)\n",
      "('Three_Billboards_Outside_Ebbing', 0.84375)\n",
      "('Les_Miserables', 0.8446601941747572)\n",
      "('Harry_Potter_and_the_Deathly_Hallows:_Part_2', 0.8457943925233645)\n",
      "('The_Martian', 0.8490566037735849)\n",
      "('Avengers:_Infinity_War', 0.8529411764705882)\n",
      "('Darkest_Hour', 0.8571428571428571)\n",
      "('Hidden_Figures', 0.8596491228070176)\n",
      "('12_Years_a_Slave', 0.8604651162790697)\n",
      "('Ready_Player_One', 0.8629032258064516)\n",
      "('Black_Swan', 0.8636363636363636)\n",
      "('Django_Unchained', 0.868421052631579)\n",
      "('Wolf_of_Wall_Street', 0.8813559322033898)\n",
      "('Shutter_Island', 0.8914728682170543)\n",
      "('Interstellar', 0.9178743961352657)\n",
      "('The_Dark_Knight_Rises', 0.9255813953488372)\n",
      "('The_Social_Network', 0.9361702127659575)\n",
      "('Inception', 0.9730941704035875)\n"
     ]
    }
   ],
   "source": [
    "for k in movie_popularity:\n",
    "    print(k)"
   ]
  },
  {
   "cell_type": "markdown",
   "metadata": {},
   "source": [
    "### (e) Implementation"
   ]
  },
  {
   "cell_type": "code",
   "execution_count": 37,
   "metadata": {},
   "outputs": [],
   "source": [
    "def read_file_EM(filename):\n",
    "    f = open(filename, 'r')\n",
    "    data = []\n",
    "    for line in f.readlines():\n",
    "        line = line.strip('\\n').split()\n",
    "        line = list(map(float, line))\n",
    "        if len(line) == 1:\n",
    "            data.append(line[0])\n",
    "        else:\n",
    "            data.append(line)\n",
    "\n",
    "    return data\n",
    "\n",
    "init_z = read_file_EM('hw8_probZ_init.txt')\n",
    "init_z_given_r = read_file_EM('hw8_probRgivenZ_init.txt')"
   ]
  },
  {
   "cell_type": "code",
   "execution_count": 38,
   "metadata": {},
   "outputs": [],
   "source": [
    "p = init_z\n",
    "conditional_p = init_z_given_r"
   ]
  },
  {
   "cell_type": "code",
   "execution_count": 39,
   "metadata": {},
   "outputs": [],
   "source": [
    "def compute_likelihood(p, conditional_p, rating_t):\n",
    "    l = 0\n",
    "    ind = 0\n",
    "    part = []\n",
    "    for i in range(len(p)):\n",
    "        cur = p[i]\n",
    "        for j in range(len(rating_t)):\n",
    "            if rating_t[j] == '1':\n",
    "                cur *= conditional_p[j][i]\n",
    "            if rating_t[j] == '0':\n",
    "                cur *= (1 - conditional_p[j][i])\n",
    "        l += cur\n",
    "        part.append(cur)\n",
    "    return (l, part)"
   ]
  },
  {
   "cell_type": "code",
   "execution_count": 40,
   "metadata": {},
   "outputs": [],
   "source": [
    "def compute_log_likelihood(p, conditional_p, rating):\n",
    "    res = 0\n",
    "    for t in range(T):\n",
    "        res += math.log(compute_likelihood(p, conditional_p, rating[t])[0])\n",
    "    return res/float(T)"
   ]
  },
  {
   "cell_type": "code",
   "execution_count": 41,
   "metadata": {},
   "outputs": [],
   "source": [
    "def compute_posterior(p, conditional_p, rating):\n",
    "    post = np.zeros((T, len(p)))\n",
    "    for i in range(len(p)):\n",
    "        for t in range(T):\n",
    "            total, part = compute_likelihood(p, conditional_p, rating[t])\n",
    "            post[t][i] = part[i] / total\n",
    "    return post"
   ]
  },
  {
   "cell_type": "code",
   "execution_count": 42,
   "metadata": {},
   "outputs": [],
   "source": [
    "def EM(p, conditional_p, rating):\n",
    "    #E-step\n",
    "    post = compute_posterior(p, conditional_p, rating)\n",
    "    for i in range(len(p)):        #4\n",
    "        total = sum(post[:, i])\n",
    "        p[i] = total / T      #P(Z=i)\n",
    "        for j in range(len(conditional_p)):       #P(Rj=1|Z=i)\n",
    "            conditional_p_cur = []\n",
    "            for r in rating[:, j]:\n",
    "                if r == '?':\n",
    "                    conditional_p_cur.append(conditional_p[j][i])\n",
    "                else:\n",
    "                    conditional_p_cur.append(int(r))\n",
    "            temp = 0\n",
    "            for t in range(T):\n",
    "                temp += post[:, i][t] * conditional_p_cur[t]\n",
    "            conditional_p[j][i] = temp / total\n",
    "    return p, conditional_p"
   ]
  },
  {
   "cell_type": "code",
   "execution_count": 43,
   "metadata": {},
   "outputs": [
    {
     "name": "stdout",
     "output_type": "stream",
     "text": [
      "Iter 0: -26.6788\n",
      "Iter 1: -16.0947\n",
      "Iter 2: -14.2878\n",
      "Iter 4: -13.2651\n",
      "Iter 8: -12.8473\n",
      "Iter 16: -12.7060\n",
      "Iter 32: -12.6407\n",
      "Iter 64: -12.6161\n",
      "Iter 128: -12.5912\n"
     ]
    }
   ],
   "source": [
    "Iter = 129\n",
    "k = 0\n",
    "rating = np.array(rating)\n",
    "t = 0\n",
    "print('Iter 0' + ': %.4f' % compute_log_likelihood(p, conditional_p, rating))\n",
    "while k < Iter:\n",
    "    if k == pow(2, t):\n",
    "        print('Iter ' + str(k) + ': %.4f' % compute_log_likelihood(p, conditional_p, rating))\n",
    "        t += 1\n",
    "\n",
    "    p, conditional_p = EM(p, conditional_p, rating)\n",
    "    k += 1"
   ]
  },
  {
   "cell_type": "markdown",
   "metadata": {},
   "source": [
    "### (f) Personal movie recommendations"
   ]
  },
  {
   "cell_type": "code",
   "execution_count": 44,
   "metadata": {},
   "outputs": [
    {
     "name": "stdout",
     "output_type": "stream",
     "text": [
      "140\n"
     ]
    }
   ],
   "source": [
    "print(pid.index('A53278437'))"
   ]
  },
  {
   "cell_type": "code",
   "execution_count": 45,
   "metadata": {},
   "outputs": [],
   "source": [
    "post = compute_posterior(p, conditional_p, rating)"
   ]
  },
  {
   "cell_type": "code",
   "execution_count": 46,
   "metadata": {},
   "outputs": [
    {
     "name": "stdout",
     "output_type": "stream",
     "text": [
      "My posterior probability is : \n",
      "===============================\n",
      "0.112487757229\n",
      "7.19181680071e-63\n",
      "0.887482870153\n",
      "2.93726181826e-05\n"
     ]
    }
   ],
   "source": [
    "my_post = post[140]\n",
    "print('My posterior probability is : ')\n",
    "print('===============================')\n",
    "for k in my_post:\n",
    "    print(k)"
   ]
  },
  {
   "cell_type": "code",
   "execution_count": 49,
   "metadata": {},
   "outputs": [
    {
     "name": "stdout",
     "output_type": "stream",
     "text": [
      "(unseen) movie sorted by expected ratings: \n",
      "=======================================\n",
      "('Hidden_Figures', 0.98106297393024366)\n",
      "('Midnight_in_Paris', 0.96898420671970298)\n",
      "('The_Hateful_Eight', 0.9636647408126191)\n",
      "('Wolf_of_Wall_Street', 0.92367136065960742)\n",
      "('Django_Unchained', 0.89482209687301839)\n",
      "('Manchester_by_the_Sea', 0.87393689525203988)\n",
      "('I_Feel_Pretty', 0.87294624767607853)\n",
      "('The_Girls_with_the_Dragon_Tattoo', 0.86461457323121682)\n",
      "('Frozen', 0.85361705787192577)\n",
      "('Pitch_Perfect', 0.84718167242176612)\n",
      "('Black_Swan', 0.83387687108383601)\n",
      "('X-Men:_First_Class', 0.80067950653763575)\n",
      "('Ready_Player_One', 0.78686091289682536)\n",
      "('Toy_Story_3', 0.77199388082973452)\n",
      "('21_Jump_Street', 0.76875253611076844)\n",
      "('Ex_Machina', 0.73246341612779575)\n",
      "('The_Help', 0.72112366160076291)\n",
      "('Magic_Mike', 0.71795092142735872)\n",
      "('The_Perks_of_Being_a_Wallflower', 0.65377275516949318)\n",
      "('Mad_Max:_Fury_Road', 0.63459649739563584)\n",
      "('Bridemaids', 0.61775037815550304)\n",
      "('Phantom_Thread', 0.58696344096576969)\n",
      "('The_Last_Airbender', 0.48903330340627393)\n",
      "('Harry_Potter_and_the_Deathly_Hallows:_Part_2', 0.47967281388913557)\n",
      "('American_Hustle', 0.47519524803082297)\n",
      "('Jurassic_World', 0.44258857389271872)\n",
      "('Drive', 0.44181910919810402)\n",
      "('The_Shape_of_Water', 0.38247995468809204)\n",
      "('Harry_Potter_and_the_Deathly_Hallows:_Part_1', 0.36694336935874589)\n",
      "('Chappaquidick', 0.28715551480765261)\n"
     ]
    }
   ],
   "source": [
    "id = 140\n",
    "guess_list = {}\n",
    "for i in range(len(rating[0])):\n",
    "    if rating[id][i] == '?':\n",
    "        guess = 0\n",
    "        for t in range(4):\n",
    "            total, part = compute_likelihood(p, conditional_p, rating[id])\n",
    "            guess += conditional_p[i][t] * part[t] / total\n",
    "        guess_list[title[i]] = guess\n",
    "\n",
    "guess_list = sorted(guess_list.items(), key=lambda item:item[1], reverse=True)\n",
    "print(\"(unseen) movie sorted by expected ratings: \")\n",
    "print('=======================================')\n",
    "for k in guess_list:\n",
    "    print(k)"
   ]
  },
  {
   "cell_type": "code",
   "execution_count": null,
   "metadata": {},
   "outputs": [],
   "source": []
  }
 ],
 "metadata": {
  "kernelspec": {
   "display_name": "Python 3",
   "language": "python",
   "name": "python3"
  },
  "language_info": {
   "codemirror_mode": {
    "name": "ipython",
    "version": 2
   },
   "file_extension": ".py",
   "mimetype": "text/x-python",
   "name": "python",
   "nbconvert_exporter": "python",
   "pygments_lexer": "ipython2",
   "version": "2.7.15"
  }
 },
 "nbformat": 4,
 "nbformat_minor": 2
}
